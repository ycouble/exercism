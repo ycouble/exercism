{
  "cells": [
    {
      "cell_type": "markdown",
      "source": [
        "# Clock\n",
        "\n",
        "Implement a clock that handles times without dates.\n",
        "\n",
        "You should be able to add and subtract minutes to it.\n",
        "\n",
        "Two clocks that represent the same time should be equal to each other.\n",
        "\n",
        "## Source\n",
        "\n",
        "Pairing session with Erin Drummond [https://twitter.com/ebdrummond](https://twitter.com/ebdrummond)\n",
        "\n",
        "## Version compatibility\n",
        "This exercise has been tested on Julia versions >=1.0.\n",
        "\n",
        "## Submitting Incomplete Solutions\n",
        "It's possible to submit an incomplete solution so you can see how others have completed the exercise."
      ],
      "metadata": {}
    },
    {
      "cell_type": "markdown",
      "source": [
        "## Your solution"
      ],
      "metadata": {}
    },
    {
      "cell_type": "code",
      "source": [
        "# submit\n",
        "using Base\n",
        "import Base.+, Base.-, Base.==, Base.show\n",
        "\n",
        "using Dates\n",
        "\n",
        "mutable struct Clock\n",
        "    h   ::Int64\n",
        "    m   ::Int64\n",
        "end\n",
        "\n",
        "function +(a::Clock, b::Clock)\n",
        "    return Clock(a.h + b.h, a.m + b.m)\n",
        "end\n",
        "\n",
        "function normalize(c::Clock)\n",
        "    nh = (c.h + div(c.m, 60)) % 24\n",
        "    nm = c.m % 60\n",
        "    if nm >= 0 && nh >= 0\n",
        "        return (nh, nm)\n",
        "    elseif nm >= 0 && nh < 0\n",
        "        return (nh+24, nm)\n",
        "    elseif nm < 0 && nh > 0\n",
        "        return (nh-1, nm+60)\n",
        "    elseif nm < 0 && nh == 0\n",
        "        return(23, nm+60)\n",
        "    elseif nm < 0 && nh < 0\n",
        "        return (nh+23, nm+60)\n",
        "    end\n",
        "end\n",
        "\n",
        "function ==(a::Clock, b::Clock)\n",
        "    return normalize(a) == normalize(b)\n",
        "end\n",
        "\n",
        "function +(a::Clock, m::Dates.Minute)\n",
        "    return Clock(a.h, a.m + m.value)\n",
        "end\n",
        "\n",
        "function -(a::Clock, m::Dates.Minute)\n",
        "    return Clock(a.h, a.m - m.value)\n",
        "end\n",
        "\n",
        "using Printf\n",
        "function show(io::IO, c::Clock)\n",
        "    nh, nm = normalize(c)\n",
        "    show(io, @sprintf(\"%02d:%02d\", nh, nm))\n",
        "end"
      ],
      "outputs": [
        {
          "output_type": "execute_result",
          "execution_count": 101,
          "data": {
            "text/plain": [
              "show (generic function with 232 methods)"
            ]
          },
          "metadata": {}
        }
      ],
      "execution_count": 101,
      "metadata": {}
    },
    {
      "cell_type": "code",
      "source": [
        "sprint(show, Clock(8, 0))"
      ],
      "outputs": [
        {
          "output_type": "execute_result",
          "execution_count": 102,
          "data": {
            "text/plain": [
              "\"\\\"08:00\\\"\""
            ]
          },
          "metadata": {}
        }
      ],
      "execution_count": 102,
      "metadata": {
        "collapsed": false,
        "outputHidden": false,
        "inputHidden": false
      }
    },
    {
      "cell_type": "code",
      "source": [
        "?show"
      ],
      "outputs": [
        {
          "output_type": "stream",
          "name": "stdout",
          "text": [
            "search: \u001b[0m\u001b[1ms\u001b[22m\u001b[0m\u001b[1mh\u001b[22m\u001b[0m\u001b[1mo\u001b[22m\u001b[0m\u001b[1mw\u001b[22m \u001b[0m\u001b[1ms\u001b[22m\u001b[0m\u001b[1mh\u001b[22m\u001b[0m\u001b[1mo\u001b[22m\u001b[0m\u001b[1mw\u001b[22mable \u001b[0m\u001b[1ms\u001b[22m\u001b[0m\u001b[1mh\u001b[22m\u001b[0m\u001b[1mo\u001b[22m\u001b[0m\u001b[1mw\u001b[22merror @\u001b[0m\u001b[1ms\u001b[22m\u001b[0m\u001b[1mh\u001b[22m\u001b[0m\u001b[1mo\u001b[22m\u001b[0m\u001b[1mw\u001b[22m @te\u001b[0m\u001b[1ms\u001b[22mt_t\u001b[0m\u001b[1mh\u001b[22mr\u001b[0m\u001b[1mo\u001b[22m\u001b[0m\u001b[1mw\u001b[22ms C\u001b[0m\u001b[1ms\u001b[22m\u001b[0m\u001b[1mh\u001b[22m\u001b[0m\u001b[1mo\u001b[22mrt Cu\u001b[0m\u001b[1ms\u001b[22m\u001b[0m\u001b[1mh\u001b[22m\u001b[0m\u001b[1mo\u001b[22mrt ha\u001b[0m\u001b[1ms\u001b[22mmet\u001b[0m\u001b[1mh\u001b[22m\u001b[0m\u001b[1mo\u001b[22md\n",
            "\n"
          ]
        },
        {
          "output_type": "execute_result",
          "execution_count": 103,
          "data": {
            "text/plain": [
              "\u001b[36m  show(x)\u001b[39m\n",
              "\n",
              "  Write an informative text representation of a value to the current output\n",
              "  stream. New types should overload \u001b[36mshow(io::IO, x)\u001b[39m where the first argument\n",
              "  is a stream. The representation used by \u001b[36mshow\u001b[39m generally includes\n",
              "  Julia-specific formatting and type information.\n",
              "\n",
              "  \u001b[36mrepr\u001b[39m returns the output of \u001b[36mshow\u001b[39m as a string.\n",
              "\n",
              "  See also \u001b[36mprint\u001b[39m, which writes un-decorated representations.\n",
              "\n",
              "\u001b[1m  Examples\u001b[22m\n",
              "\u001b[1m  ≡≡≡≡≡≡≡≡≡≡\u001b[22m\n",
              "\n",
              "\u001b[36m  julia> show(\"Hello World!\")\u001b[39m\n",
              "\u001b[36m  \"Hello World!\"\u001b[39m\n",
              "\u001b[36m  julia> print(\"Hello World!\")\u001b[39m\n",
              "\u001b[36m  Hello World!\u001b[39m\n",
              "\n",
              "  ────────────────────────────────────────────────────────────────────────────\n",
              "\n",
              "\u001b[36m  show(io, mime, x)\u001b[39m\n",
              "\n",
              "  The \u001b[36mdisplay\u001b[39m functions ultimately call \u001b[36mshow\u001b[39m in order to write an object \u001b[36mx\u001b[39m as\n",
              "  a given \u001b[36mmime\u001b[39m type to a given I/O stream \u001b[36mio\u001b[39m (usually a memory buffer), if\n",
              "  possible. In order to provide a rich multimedia representation of a\n",
              "  user-defined type \u001b[36mT\u001b[39m, it is only necessary to define a new \u001b[36mshow\u001b[39m method for \u001b[36mT\u001b[39m,\n",
              "  via: \u001b[36mshow(io, ::MIME\"mime\", x::T) = ...\u001b[39m, where \u001b[36mmime\u001b[39m is a MIME-type string\n",
              "  and the function body calls \u001b[36mwrite\u001b[39m (or similar) to write that representation\n",
              "  of \u001b[36mx\u001b[39m to \u001b[36mio\u001b[39m. (Note that the \u001b[36mMIME\"\"\u001b[39m notation only supports literal strings; to\n",
              "  construct \u001b[36mMIME\u001b[39m types in a more flexible manner use \u001b[36mMIME{Symbol(\"\")}\u001b[39m.)\n",
              "\n",
              "  For example, if you define a \u001b[36mMyImage\u001b[39m type and know how to write it to a PNG\n",
              "  file, you could define a function \u001b[36mshow(io, ::MIME\"image/png\", x::MyImage) =\n",
              "  ...\u001b[39m to allow your images to be displayed on any PNG-capable \u001b[36mAbstractDisplay\u001b[39m\n",
              "  (such as IJulia). As usual, be sure to \u001b[36mimport Base.show\u001b[39m in order to add new\n",
              "  methods to the built-in Julia function \u001b[36mshow\u001b[39m.\n",
              "\n",
              "  The default MIME type is \u001b[36mMIME\"text/plain\"\u001b[39m. There is a fallback definition\n",
              "  for \u001b[36mtext/plain\u001b[39m output that calls \u001b[36mshow\u001b[39m with 2 arguments. Therefore, this case\n",
              "  should be handled by defining a 2-argument \u001b[36mshow(io::IO, x::MyType)\u001b[39m method.\n",
              "\n",
              "  Technically, the \u001b[36mMIME\"mime\"\u001b[39m macro defines a singleton type for the given\n",
              "  \u001b[36mmime\u001b[39m string, which allows us to exploit Julia's dispatch mechanisms in\n",
              "  determining how to display objects of any given type.\n",
              "\n",
              "  The first argument to \u001b[36mshow\u001b[39m can be an \u001b[36mIOContext\u001b[39m specifying output format\n",
              "  properties. See \u001b[36mIOContext\u001b[39m for details."
            ],
            "text/markdown": [
              "```\n",
              "show(x)\n",
              "```\n",
              "\n",
              "Write an informative text representation of a value to the current output stream. New types should overload `show(io::IO, x)` where the first argument is a stream. The representation used by `show` generally includes Julia-specific formatting and type information.\n",
              "\n",
              "[`repr`](@ref) returns the output of `show` as a string.\n",
              "\n",
              "See also [`print`](@ref), which writes un-decorated representations.\n",
              "\n",
              "# Examples\n",
              "\n",
              "```jldoctest\n",
              "julia> show(\"Hello World!\")\n",
              "\"Hello World!\"\n",
              "julia> print(\"Hello World!\")\n",
              "Hello World!\n",
              "```\n",
              "\n",
              "---\n",
              "\n",
              "```\n",
              "show(io, mime, x)\n",
              "```\n",
              "\n",
              "The [`display`](@ref) functions ultimately call `show` in order to write an object `x` as a given `mime` type to a given I/O stream `io` (usually a memory buffer), if possible. In order to provide a rich multimedia representation of a user-defined type `T`, it is only necessary to define a new `show` method for `T`, via: `show(io, ::MIME\"mime\", x::T) = ...`, where `mime` is a MIME-type string and the function body calls [`write`](@ref) (or similar) to write that representation of `x` to `io`. (Note that the `MIME\"\"` notation only supports literal strings; to construct `MIME` types in a more flexible manner use `MIME{Symbol(\"\")}`.)\n",
              "\n",
              "For example, if you define a `MyImage` type and know how to write it to a PNG file, you could define a function `show(io, ::MIME\"image/png\", x::MyImage) = ...` to allow your images to be displayed on any PNG-capable `AbstractDisplay` (such as IJulia). As usual, be sure to `import Base.show` in order to add new methods to the built-in Julia function `show`.\n",
              "\n",
              "The default MIME type is `MIME\"text/plain\"`. There is a fallback definition for `text/plain` output that calls `show` with 2 arguments. Therefore, this case should be handled by defining a 2-argument `show(io::IO, x::MyType)` method.\n",
              "\n",
              "Technically, the `MIME\"mime\"` macro defines a singleton type for the given `mime` string, which allows us to exploit Julia's dispatch mechanisms in determining how to display objects of any given type.\n",
              "\n",
              "The first argument to `show` can be an [`IOContext`](@ref) specifying output format properties. See [`IOContext`](@ref) for details.\n"
            ],
            "text/latex": [
              "\\begin{verbatim}\n",
              "show(x)\n",
              "\\end{verbatim}\n",
              "Write an informative text representation of a value to the current output stream. New types should overload \\texttt{show(io::IO, x)} where the first argument is a stream. The representation used by \\texttt{show} generally includes Julia-specific formatting and type information.\n",
              "\n",
              "\\href{@ref}{\\texttt{repr}} returns the output of \\texttt{show} as a string.\n",
              "\n",
              "See also \\href{@ref}{\\texttt{print}}, which writes un-decorated representations.\n",
              "\n",
              "\\section{Examples}\n",
              "\\begin{verbatim}\n",
              "julia> show(\"Hello World!\")\n",
              "\"Hello World!\"\n",
              "julia> print(\"Hello World!\")\n",
              "Hello World!\n",
              "\\end{verbatim}\n",
              "\\rule{\\textwidth}{1pt}\n",
              "\\begin{verbatim}\n",
              "show(io, mime, x)\n",
              "\\end{verbatim}\n",
              "The \\href{@ref}{\\texttt{display}} functions ultimately call \\texttt{show} in order to write an object \\texttt{x} as a given \\texttt{mime} type to a given I/O stream \\texttt{io} (usually a memory buffer), if possible. In order to provide a rich multimedia representation of a user-defined type \\texttt{T}, it is only necessary to define a new \\texttt{show} method for \\texttt{T}, via: \\texttt{show(io, ::MIME\"mime\", x::T) = ...}, where \\texttt{mime} is a MIME-type string and the function body calls \\href{@ref}{\\texttt{write}} (or similar) to write that representation of \\texttt{x} to \\texttt{io}. (Note that the \\texttt{MIME\"\"} notation only supports literal strings; to construct \\texttt{MIME} types in a more flexible manner use \\texttt{MIME\\{Symbol(\"\")\\}}.)\n",
              "\n",
              "For example, if you define a \\texttt{MyImage} type and know how to write it to a PNG file, you could define a function \\texttt{show(io, ::MIME\"image/png\", x::MyImage) = ...} to allow your images to be displayed on any PNG-capable \\texttt{AbstractDisplay} (such as IJulia). As usual, be sure to \\texttt{import Base.show} in order to add new methods to the built-in Julia function \\texttt{show}.\n",
              "\n",
              "The default MIME type is \\texttt{MIME\"text/plain\"}. There is a fallback definition for \\texttt{text/plain} output that calls \\texttt{show} with 2 arguments. Therefore, this case should be handled by defining a 2-argument \\texttt{show(io::IO, x::MyType)} method.\n",
              "\n",
              "Technically, the \\texttt{MIME\"mime\"} macro defines a singleton type for the given \\texttt{mime} string, which allows us to exploit Julia's dispatch mechanisms in determining how to display objects of any given type.\n",
              "\n",
              "The first argument to \\texttt{show} can be an \\href{@ref}{\\texttt{IOContext}} specifying output format properties. See \\href{@ref}{\\texttt{IOContext}} for details.\n",
              "\n"
            ]
          },
          "metadata": {}
        }
      ],
      "execution_count": 103,
      "metadata": {
        "collapsed": false,
        "outputHidden": false,
        "inputHidden": false
      }
    },
    {
      "cell_type": "code",
      "source": [
        "?sprint"
      ],
      "outputs": [
        {
          "output_type": "stream",
          "name": "stdout",
          "text": [
            "search: \u001b[0m\u001b[1ms\u001b[22m\u001b[0m\u001b[1mp\u001b[22m\u001b[0m\u001b[1mr\u001b[22m\u001b[0m\u001b[1mi\u001b[22m\u001b[0m\u001b[1mn\u001b[22m\u001b[0m\u001b[1mt\u001b[22m i\u001b[0m\u001b[1ms\u001b[22m\u001b[0m\u001b[1mp\u001b[22m\u001b[0m\u001b[1mr\u001b[22m\u001b[0m\u001b[1mi\u001b[22m\u001b[0m\u001b[1mn\u001b[22m\u001b[0m\u001b[1mt\u001b[22m @\u001b[0m\u001b[1ms\u001b[22m\u001b[0m\u001b[1mp\u001b[22m\u001b[0m\u001b[1mr\u001b[22m\u001b[0m\u001b[1mi\u001b[22m\u001b[0m\u001b[1mn\u001b[22m\u001b[0m\u001b[1mt\u001b[22mf \u001b[0m\u001b[1ms\u001b[22met\u001b[0m\u001b[1mp\u001b[22m\u001b[0m\u001b[1mr\u001b[22mec\u001b[0m\u001b[1mi\u001b[22msio\u001b[0m\u001b[1mn\u001b[22m e\u001b[0m\u001b[1ms\u001b[22mca\u001b[0m\u001b[1mp\u001b[22me_st\u001b[0m\u001b[1mr\u001b[22m\u001b[0m\u001b[1mi\u001b[22m\u001b[0m\u001b[1mn\u001b[22mg une\u001b[0m\u001b[1ms\u001b[22mca\u001b[0m\u001b[1mp\u001b[22me_st\u001b[0m\u001b[1mr\u001b[22m\u001b[0m\u001b[1mi\u001b[22m\u001b[0m\u001b[1mn\u001b[22mg\n",
            "\n"
          ]
        },
        {
          "output_type": "execute_result",
          "execution_count": 104,
          "data": {
            "text/plain": [
              "\u001b[36m  sprint(f::Function, args...; context=nothing, sizehint=0)\u001b[39m\n",
              "\n",
              "  Call the given function with an I/O stream and the supplied extra arguments.\n",
              "  Everything written to this I/O stream is returned as a string. \u001b[36mcontext\u001b[39m can\n",
              "  be either an \u001b[36mIOContext\u001b[39m whose properties will be used, or a \u001b[36mPair\u001b[39m specifying a\n",
              "  property and its value. \u001b[36msizehint\u001b[39m suggests the capacity of the buffer (in\n",
              "  bytes).\n",
              "\n",
              "  The optional keyword argument \u001b[36mcontext\u001b[39m can be set to \u001b[36m:key=>value\u001b[39m pair or an\n",
              "  \u001b[36mIO\u001b[39m or \u001b[36mIOContext\u001b[39m object whose attributes are used for the I/O stream passed\n",
              "  to \u001b[36mf\u001b[39m. The optional \u001b[36msizehint\u001b[39m is a suggested size (in bytes) to allocate for\n",
              "  the buffer used to write the string.\n",
              "\n",
              "\u001b[1m  Examples\u001b[22m\n",
              "\u001b[1m  ≡≡≡≡≡≡≡≡≡≡\u001b[22m\n",
              "\n",
              "\u001b[36m  julia> sprint(show, 66.66666; context=:compact => true)\u001b[39m\n",
              "\u001b[36m  \"66.6667\"\u001b[39m\n",
              "\u001b[36m  \u001b[39m\n",
              "\u001b[36m  julia> sprint(showerror, BoundsError([1], 100))\u001b[39m\n",
              "\u001b[36m  \"BoundsError: attempt to access 1-element Array{Int64,1} at index [100]\"\u001b[39m"
            ],
            "text/markdown": [
              "```\n",
              "sprint(f::Function, args...; context=nothing, sizehint=0)\n",
              "```\n",
              "\n",
              "Call the given function with an I/O stream and the supplied extra arguments. Everything written to this I/O stream is returned as a string. `context` can be either an [`IOContext`](@ref) whose properties will be used, or a `Pair` specifying a property and its value. `sizehint` suggests the capacity of the buffer (in bytes).\n",
              "\n",
              "The optional keyword argument `context` can be set to `:key=>value` pair or an `IO` or [`IOContext`](@ref) object whose attributes are used for the I/O stream passed to `f`.  The optional `sizehint` is a suggested size (in bytes) to allocate for the buffer used to write the string.\n",
              "\n",
              "# Examples\n",
              "\n",
              "```jldoctest\n",
              "julia> sprint(show, 66.66666; context=:compact => true)\n",
              "\"66.6667\"\n",
              "\n",
              "julia> sprint(showerror, BoundsError([1], 100))\n",
              "\"BoundsError: attempt to access 1-element Array{Int64,1} at index [100]\"\n",
              "```\n"
            ],
            "text/latex": [
              "\\begin{verbatim}\n",
              "sprint(f::Function, args...; context=nothing, sizehint=0)\n",
              "\\end{verbatim}\n",
              "Call the given function with an I/O stream and the supplied extra arguments. Everything written to this I/O stream is returned as a string. \\texttt{context} can be either an \\href{@ref}{\\texttt{IOContext}} whose properties will be used, or a \\texttt{Pair} specifying a property and its value. \\texttt{sizehint} suggests the capacity of the buffer (in bytes).\n",
              "\n",
              "The optional keyword argument \\texttt{context} can be set to \\texttt{:key=>value} pair or an \\texttt{IO} or \\href{@ref}{\\texttt{IOContext}} object whose attributes are used for the I/O stream passed to \\texttt{f}.  The optional \\texttt{sizehint} is a suggested size (in bytes) to allocate for the buffer used to write the string.\n",
              "\n",
              "\\section{Examples}\n",
              "\\begin{verbatim}\n",
              "julia> sprint(show, 66.66666; context=:compact => true)\n",
              "\"66.6667\"\n",
              "\n",
              "julia> sprint(showerror, BoundsError([1], 100))\n",
              "\"BoundsError: attempt to access 1-element Array{Int64,1} at index [100]\"\n",
              "\\end{verbatim}\n"
            ]
          },
          "metadata": {}
        }
      ],
      "execution_count": 104,
      "metadata": {
        "collapsed": false,
        "outputHidden": false,
        "inputHidden": false
      }
    },
    {
      "cell_type": "markdown",
      "source": [
        "## Test suite"
      ],
      "metadata": {}
    },
    {
      "cell_type": "code",
      "source": [
        "# canonical data version: 2.4.0 (auto-generated)\n",
        "\n",
        "using Test\n",
        "\n",
        "# include(\"clock.jl\")\n",
        "\n",
        "@testset \"Create a new clock with an initial time\" begin\n",
        "    # on the hour\n",
        "    @test Clock(8, 0) == Clock(8, 0)\n",
        "\n",
        "    # past the hour\n",
        "    @test Clock(11, 9) == Clock(11, 9)\n",
        "\n",
        "    # midnight is zero hours\n",
        "    @test Clock(24, 0) == Clock(0, 0)\n",
        "\n",
        "    # hour rolls over\n",
        "    @test Clock(25, 0) == Clock(1, 0)\n",
        "\n",
        "    # hour rolls over continuously\n",
        "    @test Clock(100, 0) == Clock(4, 0)\n",
        "\n",
        "    # sixty minutes is next hour\n",
        "    @test Clock(1, 60) == Clock(2, 0)\n",
        "\n",
        "    # minutes roll over\n",
        "    @test Clock(0, 160) == Clock(2, 40)\n",
        "\n",
        "    # minutes roll over continuously\n",
        "    @test Clock(0, 1723) == Clock(4, 43)\n",
        "\n",
        "    # hour and minutes roll over\n",
        "    @test Clock(25, 160) == Clock(3, 40)\n",
        "\n",
        "    # hour and minutes roll over continuously\n",
        "    @test Clock(201, 3001) == Clock(11, 1)\n",
        "\n",
        "    # hour and minutes roll over to exactly midnight\n",
        "    @test Clock(72, 8640) == Clock(0, 0)\n",
        "\n",
        "    # negative hour\n",
        "    @test Clock(-1, 15) == Clock(23, 15)\n",
        "\n",
        "    # negative hour rolls over\n",
        "    @test Clock(-25, 0) == Clock(23, 0)\n",
        "\n",
        "    # negative hour rolls over continuously\n",
        "    @test Clock(-91, 0) == Clock(5, 0)\n",
        "\n",
        "    # negative minutes\n",
        "    @test Clock(1, -40) == Clock(0, 20)\n",
        "\n",
        "    # negative minutes roll over\n",
        "    @test Clock(1, -160) == Clock(22, 20)\n",
        "\n",
        "    # negative minutes roll over continuously\n",
        "    @test Clock(1, -4820) == Clock(16, 40)\n",
        "\n",
        "    # negative sixty minutes is previous hour\n",
        "    @test Clock(2, -60) == Clock(1, 0)\n",
        "\n",
        "    # negative hour and minutes both roll over\n",
        "    @test Clock(-25, -160) == Clock(20, 20)\n",
        "\n",
        "    # negative hour and minutes both roll over continuously\n",
        "    @test Clock(-121, -5810) == Clock(22, 10)\n",
        "end\n",
        "\n",
        "@testset \"Add minutes\" begin\n",
        "    # add minutes\n",
        "    @test Clock(10, 0) + Dates.Minute(3) == Clock(10, 3)\n",
        "\n",
        "    # add no minutes\n",
        "    @test Clock(6, 41) + Dates.Minute(0) == Clock(6, 41)\n",
        "\n",
        "    # add to next hour\n",
        "    @test Clock(0, 45) + Dates.Minute(40) == Clock(1, 25)\n",
        "\n",
        "    # add more than one hour\n",
        "    @test Clock(10, 0) + Dates.Minute(61) == Clock(11, 1)\n",
        "\n",
        "    # add more than two hours with carry\n",
        "    @test Clock(0, 45) + Dates.Minute(160) == Clock(3, 25)\n",
        "\n",
        "    # add across midnight\n",
        "    @test Clock(23, 59) + Dates.Minute(2) == Clock(0, 1)\n",
        "\n",
        "    # add more than one day (1500 min = 25 hrs)\n",
        "    @test Clock(5, 32) + Dates.Minute(1500) == Clock(6, 32)\n",
        "\n",
        "    # add more than two days\n",
        "    @test Clock(1, 1) + Dates.Minute(3500) == Clock(11, 21)\n",
        "end\n",
        "\n",
        "@testset \"Subtract minutes\" begin\n",
        "    # subtract minutes\n",
        "    @test Clock(10, 3) - Dates.Minute(3) == Clock(10, 0)\n",
        "\n",
        "    # subtract to previous hour\n",
        "    @test Clock(10, 3) - Dates.Minute(30) == Clock(9, 33)\n",
        "\n",
        "    # subtract more than an hour\n",
        "    @test Clock(10, 3) - Dates.Minute(70) == Clock(8, 53)\n",
        "\n",
        "    # subtract across midnight\n",
        "    @test Clock(0, 3) - Dates.Minute(4) == Clock(23, 59)\n",
        "\n",
        "    # subtract more than two hours\n",
        "    @test Clock(0, 0) - Dates.Minute(160) == Clock(21, 20)\n",
        "\n",
        "    # subtract more than two hours with borrow\n",
        "    @test Clock(6, 15) - Dates.Minute(160) == Clock(3, 35)\n",
        "\n",
        "    # subtract more than one day (1500 min = 25 hrs)\n",
        "    @test Clock(5, 32) - Dates.Minute(1500) == Clock(4, 32)\n",
        "\n",
        "    # subtract more than two days\n",
        "    @test Clock(2, 20) - Dates.Minute(3000) == Clock(0, 20)\n",
        "end\n",
        "\n",
        "@testset \"Compare two clocks for equality\" begin\n",
        "    # clocks with same time\n",
        "    @test Clock(15, 37) == Clock(15, 37)\n",
        "\n",
        "    # clocks a minute apart\n",
        "    @test Clock(15, 36) != Clock(15, 37)\n",
        "\n",
        "    # clocks an hour apart\n",
        "    @test Clock(14, 37) != Clock(15, 37)\n",
        "\n",
        "    # clocks with hour overflow\n",
        "    @test Clock(10, 37) == Clock(34, 37)\n",
        "\n",
        "    # clocks with hour overflow by several days\n",
        "    @test Clock(3, 11) == Clock(99, 11)\n",
        "\n",
        "    # clocks with negative hour\n",
        "    @test Clock(22, 40) == Clock(-2, 40)\n",
        "\n",
        "    # clocks with negative hour that wraps\n",
        "    @test Clock(17, 3) == Clock(-31, 3)\n",
        "\n",
        "    # clocks with negative hour that wraps multiple times\n",
        "    @test Clock(13, 49) == Clock(-83, 49)\n",
        "\n",
        "    # clocks with minute overflow\n",
        "    @test Clock(0, 1) == Clock(0, 1441)\n",
        "\n",
        "    # clocks with minute overflow by several days\n",
        "    @test Clock(2, 2) == Clock(2, 4322)\n",
        "\n",
        "    # clocks with negative minute\n",
        "    @test Clock(2, 40) == Clock(3, -20)\n",
        "\n",
        "    # clocks with negative minute that wraps\n",
        "    @test Clock(4, 10) == Clock(5, -1490)\n",
        "\n",
        "    # clocks with negative minute that wraps multiple times\n",
        "    @test Clock(6, 15) == Clock(6, -4305)\n",
        "\n",
        "    # clocks with negative hours and minutes\n",
        "    @test Clock(7, 32) == Clock(-12, -268)\n",
        "\n",
        "    # clocks with negative hours and minutes that wrap\n",
        "    @test Clock(18, 7) == Clock(-54, -11513)\n",
        "\n",
        "    # full clock and zeroed clock\n",
        "    @test Clock(24, 0) == Clock(0, 0)\n",
        "end\n",
        "\n",
        "@testset \"displaying clocks\" begin\n",
        "    @test sprint(show, Clock(8, 0)) == \"\\\"08:00\\\"\"\n",
        "    @test sprint(show, Clock(11, 9)) == \"\\\"11:09\\\"\"\n",
        "    @test sprint(show, Clock(24, 0)) == \"\\\"00:00\\\"\"\n",
        "    @test sprint(show, Clock(25, 0)) == \"\\\"01:00\\\"\"\n",
        "    @test sprint(show, Clock(100, 0)) == \"\\\"04:00\\\"\"\n",
        "    @test sprint(show, Clock(1, 60)) == \"\\\"02:00\\\"\"\n",
        "    @test sprint(show, Clock(0, 160)) == \"\\\"02:40\\\"\"\n",
        "    @test sprint(show, Clock(0, 1723)) == \"\\\"04:43\\\"\"\n",
        "    @test sprint(show, Clock(25, 160)) == \"\\\"03:40\\\"\"\n",
        "    @test sprint(show, Clock(201, 3001)) == \"\\\"11:01\\\"\"\n",
        "    @test sprint(show, Clock(72, 8640)) == \"\\\"00:00\\\"\"\n",
        "    @test sprint(show, Clock(-1, 15)) == \"\\\"23:15\\\"\"\n",
        "    @test sprint(show, Clock(-25, 0)) == \"\\\"23:00\\\"\"\n",
        "    @test sprint(show, Clock(-91, 0)) == \"\\\"05:00\\\"\"\n",
        "    @test sprint(show, Clock(1, -40)) == \"\\\"00:20\\\"\"\n",
        "    @test sprint(show, Clock(1, -160)) == \"\\\"22:20\\\"\"\n",
        "    @test sprint(show, Clock(1, -4820)) == \"\\\"16:40\\\"\"\n",
        "    @test sprint(show, Clock(2, -60)) == \"\\\"01:00\\\"\"\n",
        "    @test sprint(show, Clock(-25, -160)) == \"\\\"20:20\\\"\"\n",
        "    @test sprint(show, Clock(-121, -5810)) == \"\\\"22:10\\\"\"\n",
        "end"
      ],
      "outputs": [
        {
          "output_type": "stream",
          "name": "stdout",
          "text": [
            "\u001b[37m\u001b[1mTest Summary:                           | \u001b[22m\u001b[39m\u001b[32m\u001b[1mPass  \u001b[22m\u001b[39m\u001b[36m\u001b[1mTotal\u001b[22m\u001b[39m\n",
            "Create a new clock with an initial time | \u001b[32m  20  \u001b[39m\u001b[36m   20\u001b[39m\n",
            "\u001b[37m\u001b[1mTest Summary: | \u001b[22m\u001b[39m\u001b[32m\u001b[1mPass  \u001b[22m\u001b[39m\u001b[36m\u001b[1mTotal\u001b[22m\u001b[39m\n",
            "Add minutes   | \u001b[32m   8  \u001b[39m\u001b[36m    8\u001b[39m\n",
            "\u001b[37m\u001b[1mTest Summary:    | \u001b[22m\u001b[39m\u001b[32m\u001b[1mPass  \u001b[22m\u001b[39m\u001b[36m\u001b[1mTotal\u001b[22m\u001b[39m\n",
            "Subtract minutes | \u001b[32m   8  \u001b[39m\u001b[36m    8\u001b[39m\n",
            "\u001b[37m\u001b[1mTest Summary:                   | \u001b[22m\u001b[39m\u001b[32m\u001b[1mPass  \u001b[22m\u001b[39m\u001b[36m\u001b[1mTotal\u001b[22m\u001b[39m\n",
            "Compare two clocks for equality | \u001b[32m  16  \u001b[39m\u001b[36m   16\u001b[39m\n",
            "\u001b[37m\u001b[1mTest Summary:     | \u001b[22m\u001b[39m\u001b[32m\u001b[1mPass  \u001b[22m\u001b[39m\u001b[36m\u001b[1mTotal\u001b[22m\u001b[39m\n",
            "displaying clocks | \u001b[32m  20  \u001b[39m\u001b[36m   20\u001b[39m\n"
          ]
        },
        {
          "output_type": "execute_result",
          "execution_count": 105,
          "data": {
            "text/plain": [
              "Test.DefaultTestSet(\"displaying clocks\", Any[], 20, false)"
            ]
          },
          "metadata": {}
        }
      ],
      "execution_count": 105,
      "metadata": {}
    },
    {
      "cell_type": "markdown",
      "source": [
        "## Prepare submission\n",
        "To submit your exercise, you need to save your solution in a file called `clock.jl` before using the CLI.\n",
        "You can either create it manually or use the following functions, which will automatically write every notebook cell that starts with `# submit` to the file `clock.jl`.\n"
      ],
      "metadata": {}
    },
    {
      "cell_type": "code",
      "source": [
        "using Pkg; Pkg.add(\"Exercism\")\n",
        "using Exercism\n",
        "Exercism.create_submission(\"clock\")"
      ],
      "outputs": [
        {
          "output_type": "stream",
          "name": "stdout",
          "text": [
            "\u001b[32m\u001b[1m  Updating\u001b[22m\u001b[39m registry at `~/.julia/registries/General`\n",
            "\u001b[32m\u001b[1m  Updating\u001b[22m\u001b[39m git-repo `https://github.com/JuliaRegistries/General.git`\n",
            "\u001b[2K\u001b[?25h\u001b[32m\u001b[1m Resolving\u001b[22m\u001b[39m package versions...===============>]  100.0 %.0 %\n",
            "\u001b[32m\u001b[1m Installed\u001b[22m\u001b[39m Exercism ─ v0.1.4\n",
            "\u001b[32m\u001b[1m Installed\u001b[22m\u001b[39m Cassette ─ v0.3.1\n",
            "\u001b[32m\u001b[1m  Updating\u001b[22m\u001b[39m `~/.julia/environments/v1.3/Project.toml`\n",
            " \u001b[90m [b06d6668]\u001b[39m\u001b[92m + Exercism v0.1.4\u001b[39m\n",
            "\u001b[32m\u001b[1m  Updating\u001b[22m\u001b[39m `~/.julia/environments/v1.3/Manifest.toml`\n",
            " \u001b[90m [7057c7e9]\u001b[39m\u001b[93m ↑ Cassette v0.3.0 ⇒ v0.3.1\u001b[39m\n",
            " \u001b[90m [3da002f7]\u001b[39m\u001b[93m ↑ ColorTypes v0.9.0 ⇒ v0.9.1\u001b[39m\n",
            " \u001b[90m [5ae59095]\u001b[39m\u001b[93m ↑ Colors v0.11.1 ⇒ v0.11.2\u001b[39m\n",
            " \u001b[90m [864edb3b]\u001b[39m\u001b[93m ↑ DataStructures v0.17.7 ⇒ v0.17.9\u001b[39m\n",
            " \u001b[90m [33d173f1]\u001b[39m\u001b[93m ↑ DocSeeker v0.3.1 ⇒ v0.3.2\u001b[39m\n",
            " \u001b[90m [b06d6668]\u001b[39m\u001b[92m + Exercism v0.1.4\u001b[39m\n",
            " \u001b[90m [53c48c17]\u001b[39m\u001b[93m ↑ FixedPointNumbers v0.7.0 ⇒ v0.7.1\u001b[39m\n",
            " \u001b[90m [f6369f11]\u001b[39m\u001b[93m ↑ ForwardDiff v0.10.8 ⇒ v0.10.9\u001b[39m\n",
            " \u001b[90m [aa1ae85d]\u001b[39m\u001b[93m ↑ JuliaInterpreter v0.7.7 ⇒ v0.7.8\u001b[39m\n",
            " \u001b[90m [d8a4904e]\u001b[39m\u001b[93m ↑ MutableArithmetics v0.2.0 ⇒ v0.2.1\u001b[39m\n",
            " \u001b[90m [c2297ded]\u001b[39m\u001b[93m ↑ ZMQ v1.0.0 ⇒ v1.2.0\u001b[39m\n",
            " \u001b[90m [8f1865be]\u001b[39m\u001b[92m + ZeroMQ_jll v4.3.1+0\u001b[39m\n"
          ]
        },
        {
          "output_type": "stream",
          "name": "stderr",
          "text": [
            "┌ Info: Precompiling Exercism [b06d6668-ed87-5b0c-b882-855c8dde7d29]\n",
            "└ @ Base loading.jl:1273\n"
          ]
        },
        {
          "output_type": "execute_result",
          "execution_count": 106,
          "data": {
            "text/plain": [
              "926"
            ]
          },
          "metadata": {}
        }
      ],
      "execution_count": 106,
      "metadata": {}
    },
    {
      "cell_type": "code",
      "source": [],
      "outputs": [],
      "execution_count": null,
      "metadata": {
        "collapsed": false,
        "outputHidden": false,
        "inputHidden": false
      }
    }
  ],
  "metadata": {
    "kernelspec": {
      "name": "julia-1.3",
      "language": "julia",
      "display_name": "Julia 1.3.1"
    },
    "language_info": {
      "file_extension": ".jl",
      "name": "julia",
      "mimetype": "application/julia",
      "version": "1.3.1"
    },
    "kernel_info": {
      "name": "julia-1.3"
    },
    "nteract": {
      "version": "0.15.0"
    }
  },
  "nbformat": 4,
  "nbformat_minor": 2
}