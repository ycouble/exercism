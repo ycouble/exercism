{
 "cells": [
  {
   "cell_type": "markdown",
   "metadata": {},
   "source": [
    "# Robot Simulator\n",
    "\n",
    "Write a robot simulator.\n",
    "\n",
    "A robot factory's test facility needs a program to verify robot movements.\n",
    "\n",
    "The robots have three possible movements:\n",
    "\n",
    "- turn right\n",
    "- turn left\n",
    "- advance\n",
    "\n",
    "Robots are placed on a hypothetical infinite grid, facing a particular\n",
    "direction (north, east, south, or west) at a set of {x,y} coordinates,\n",
    "e.g., {3,8}, with coordinates increasing to the north and east.\n",
    "\n",
    "The robot then receives a number of instructions, at which point the\n",
    "testing facility verifies the robot's new position, and in which\n",
    "direction it is pointing.\n",
    "\n",
    "- The letter-string \"RAALAL\" means:\n",
    "  - Turn right\n",
    "  - Advance twice\n",
    "  - Turn left\n",
    "  - Advance once\n",
    "  - Turn left yet again\n",
    "- Say a robot starts at {7, 3} facing north. Then running this stream\n",
    "  of instructions should leave it at {9, 4} facing west.\n",
    "\n",
    "## Source\n",
    "\n",
    "Inspired by an interview question at a famous company.\n",
    "\n",
    "## Version compatibility\n",
    "This exercise has been tested on Julia versions >=1.0.\n",
    "\n",
    "## Submitting Incomplete Solutions\n",
    "It's possible to submit an incomplete solution so you can see how others have completed the exercise."
   ]
  },
  {
   "cell_type": "markdown",
   "metadata": {},
   "source": [
    "## Your solution"
   ]
  },
  {
   "cell_type": "code",
   "execution_count": 3,
   "metadata": {},
   "outputs": [
    {
     "data": {
      "text/plain": [
       "move! (generic function with 1 method)"
      ]
     },
     "execution_count": 3,
     "metadata": {},
     "output_type": "execute_result"
    }
   ],
   "source": [
    "# submit\n",
    "using Base\n",
    "import Base.+\n",
    "\n",
    "@enum Direction NORTH=0 EAST=1 SOUTH=2 WEST=3\n",
    "\n",
    "struct Point{T}\n",
    "    x::T\n",
    "    y::T\n",
    "end\n",
    "\n",
    "function +(p::Point, t::Tuple{Int64,Int64})\n",
    "    return Point(p.x + t[1], p.y + t[2])\n",
    "end\n",
    "\n",
    "mutable struct Robot\n",
    "    xy::Point\n",
    "    dir::Direction\n",
    "end\n",
    "\n",
    "function Robot(t::Tuple{Int64,Int64}, d::Direction)\n",
    "    return Robot(Point(t[1],t[2]), d)\n",
    "end\n",
    "\n",
    "function position(r::Robot)\n",
    "    return r.xy\n",
    "end\n",
    "\n",
    "function heading(r::Robot)\n",
    "    return r.dir\n",
    "end\n",
    "\n",
    "function turn_right!(r::Robot)\n",
    "    r.dir = Direction((Int(r.dir) + 1) % 4)\n",
    "    return r\n",
    "end\n",
    "\n",
    "function turn_left!(r::Robot)\n",
    "    r.dir = Direction((Int(r.dir) + 3) % 4)\n",
    "    return r\n",
    "end\n",
    "\n",
    "function advance!(r::Robot)\n",
    "    if r.dir === NORTH\n",
    "        r.xy = r.xy + (0,1)\n",
    "    elseif r.dir === SOUTH\n",
    "        r.xy = r.xy + (0,-1)\n",
    "    elseif r.dir === EAST\n",
    "        r.xy = r.xy + (1,0)\n",
    "    elseif r.dir === WEST\n",
    "        r.xy = r.xy + (-1,0)\n",
    "    else\n",
    "        error(\"Unknown direction\")\n",
    "    end\n",
    "    return r\n",
    "end\n",
    "\n",
    "function move!(r::Robot, s::String)\n",
    "    for c in lowercase(s)\n",
    "        if c == 'a'\n",
    "            advance!(r)\n",
    "        elseif c == 'l'\n",
    "            turn_left!(r)\n",
    "        elseif c == 'r'\n",
    "            turn_right!(r)\n",
    "        else\n",
    "            error(\"Bad instruction\")\n",
    "        end\n",
    "    end\n",
    "end\n"
   ]
  },
  {
   "cell_type": "markdown",
   "metadata": {},
   "source": [
    "## Test suite"
   ]
  },
  {
   "cell_type": "code",
   "execution_count": 33,
   "metadata": {},
   "outputs": [
    {
     "data": {
      "text/plain": [
       "P{Int64}(1)"
      ]
     },
     "execution_count": 33,
     "metadata": {},
     "output_type": "execute_result"
    }
   ],
   "source": [
    "struct P{T}\n",
    "    x::T\n",
    "end\n",
    "P(1)"
   ]
  },
  {
   "cell_type": "code",
   "execution_count": 4,
   "metadata": {},
   "outputs": [
    {
     "name": "stdout",
     "output_type": "stream",
     "text": [
      "\u001b[37m\u001b[1mTest Summary: | \u001b[22m\u001b[39m\u001b[32m\u001b[1mPass  \u001b[22m\u001b[39m\u001b[36m\u001b[1mTotal\u001b[22m\u001b[39m\n",
      "constructor   | \u001b[32m   4  \u001b[39m\u001b[36m    4\u001b[39m\n",
      "\u001b[37m\u001b[1mTest Summary: | \u001b[22m\u001b[39m\u001b[32m\u001b[1mPass  \u001b[22m\u001b[39m\u001b[36m\u001b[1mTotal\u001b[22m\u001b[39m\n",
      "rotate +π/2   | \u001b[32m   5  \u001b[39m\u001b[36m    5\u001b[39m\n",
      "\u001b[37m\u001b[1mTest Summary: | \u001b[22m\u001b[39m\u001b[32m\u001b[1mPass  \u001b[22m\u001b[39m\u001b[36m\u001b[1mTotal\u001b[22m\u001b[39m\n",
      "rotate -π/2   | \u001b[32m   5  \u001b[39m\u001b[36m    5\u001b[39m\n",
      "\u001b[37m\u001b[1mTest Summary: | \u001b[22m\u001b[39m\u001b[32m\u001b[1mPass  \u001b[22m\u001b[39m\u001b[36m\u001b[1mTotal\u001b[22m\u001b[39m\n",
      "advance       | \u001b[32m   5  \u001b[39m\u001b[36m    5\u001b[39m\n",
      "\u001b[37m\u001b[1mTest Summary: | \u001b[22m\u001b[39m\u001b[32m\u001b[1mPass  \u001b[22m\u001b[39m\u001b[36m\u001b[1mTotal\u001b[22m\u001b[39m\n",
      "instructions  | \u001b[32m   6  \u001b[39m\u001b[36m    6\u001b[39m\n"
     ]
    },
    {
     "data": {
      "text/plain": [
       "Test.DefaultTestSet(\"instructions\", Any[Test.DefaultTestSet(\"move west and north\", Any[], 2, false), Test.DefaultTestSet(\"move west and south\", Any[], 2, false), Test.DefaultTestSet(\"move east and north\", Any[], 2, false)], 0, false)"
      ]
     },
     "execution_count": 4,
     "metadata": {},
     "output_type": "execute_result"
    }
   ],
   "source": [
    "using Test\n",
    "\n",
    "# include(\"robot-simulator.jl\")\n",
    "\n",
    "@testset \"constructor\" begin\n",
    "    r = Robot((0, 0), NORTH)\n",
    "    @test position(r) == Point(0, 0)\n",
    "    @test heading(r) == NORTH\n",
    "\n",
    "    r = Robot((-1, -1), SOUTH)\n",
    "    @test position(r) == Point{Int}(-1, -1)\n",
    "    @test heading(r) == SOUTH\n",
    "end\n",
    "\n",
    "@testset \"rotate +π/2\" begin\n",
    "    r = Robot((0, 0), NORTH)\n",
    "    turn_right!(r)\n",
    "    @test position(r) == Point(0, 0)\n",
    "    @test heading(r) == EAST\n",
    "    turn_right!(r)\n",
    "    @test heading(r) == SOUTH\n",
    "    turn_right!(r)\n",
    "    @test heading(r) == WEST\n",
    "    turn_right!(r)\n",
    "    @test heading(r) == NORTH\n",
    "end\n",
    "\n",
    "@testset \"rotate -π/2\" begin\n",
    "    r = Robot((0, 0), NORTH)\n",
    "    turn_left!(r)\n",
    "    @test position(r) == Point(0, 0)\n",
    "    @test heading(r) == WEST\n",
    "    turn_left!(r)\n",
    "    @test heading(r) == SOUTH\n",
    "    turn_left!(r)\n",
    "    @test heading(r) == EAST\n",
    "    turn_left!(r)\n",
    "    @test heading(r) == NORTH\n",
    "end\n",
    "\n",
    "@testset \"advance\" begin\n",
    "    r = Robot((0, 0), NORTH)\n",
    "    advance!(r)\n",
    "    @test heading(r) == NORTH\n",
    "    @test position(r) == Point(0, 1)\n",
    "\n",
    "    @test position(advance!(Robot((0, 0), SOUTH))) == Point(0, -1)\n",
    "    @test position(advance!(Robot((0, 0), EAST))) == Point(1, 0)\n",
    "    @test position(advance!(Robot((0, 0), WEST))) == Point(-1, 0)\n",
    "end\n",
    "\n",
    "@testset \"instructions\" begin\n",
    "    @testset \"move west and north\" begin\n",
    "        r = Robot((0, 0), NORTH)\n",
    "        move!(r, \"LAAARALA\")\n",
    "        @test position(r) == Point(-4, 1)\n",
    "        @test heading(r) == WEST\n",
    "    end\n",
    "\n",
    "    @testset \"move west and south\" begin\n",
    "        r = Robot((2, -7), EAST)\n",
    "        move!(r, \"RRAAAAALA\")\n",
    "        @test position(r) == Point(-3, -8)\n",
    "        @test heading(r) == SOUTH\n",
    "    end\n",
    "\n",
    "    @testset \"move east and north\" begin\n",
    "        r = Robot((8, 4), SOUTH)\n",
    "        move!(r, \"LAAARRRALLLL\")\n",
    "        @test position(r) == Point(11, 5)\n",
    "        @test heading(r) == NORTH\n",
    "    end\n",
    "end"
   ]
  },
  {
   "cell_type": "markdown",
   "metadata": {},
   "source": [
    "## Prepare submission\n",
    "To submit your exercise, you need to save your solution in a file called `robot-simulator.jl` before using the CLI.\n",
    "You can either create it manually or use the following functions, which will automatically write every notebook cell that starts with `# submit` to the file `robot-simulator.jl`.\n"
   ]
  },
  {
   "cell_type": "code",
   "execution_count": 6,
   "metadata": {},
   "outputs": [
    {
     "data": {
      "text/plain": [
       "1234"
      ]
     },
     "execution_count": 6,
     "metadata": {},
     "output_type": "execute_result"
    }
   ],
   "source": [
    "#using Pkg; Pkg.add(\"Exercism\")\n",
    "using Exercism\n",
    "Exercism.create_submission(\"robot-simulator\")"
   ]
  }
 ],
 "metadata": {
  "kernelspec": {
   "display_name": "Julia 1.3.1",
   "language": "julia",
   "name": "julia-1.3"
  },
  "language_info": {
   "file_extension": ".jl",
   "mimetype": "application/julia",
   "name": "julia",
   "version": "1.3.1"
  }
 },
 "nbformat": 4,
 "nbformat_minor": 2
}
