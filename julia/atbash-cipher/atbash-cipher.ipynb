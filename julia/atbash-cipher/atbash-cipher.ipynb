{
  "cells": [
    {
      "cell_type": "markdown",
      "source": [
        "# Atbash Cipher\n",
        "\n",
        "Create an implementation of the atbash cipher, an ancient encryption system created in the Middle East.\n",
        "\n",
        "The Atbash cipher is a simple substitution cipher that relies on\n",
        "transposing all the letters in the alphabet such that the resulting\n",
        "alphabet is backwards. The first letter is replaced with the last\n",
        "letter, the second with the second-last, and so on.\n",
        "\n",
        "An Atbash cipher for the Latin alphabet would be as follows:\n",
        "\n",
        "```text\n",
        "Plain:  abcdefghijklmnopqrstuvwxyz\n",
        "Cipher: zyxwvutsrqponmlkjihgfedcba\n",
        "```\n",
        "\n",
        "It is a very weak cipher because it only has one possible key, and it is\n",
        "a simple monoalphabetic substitution cipher. However, this may not have\n",
        "been an issue in the cipher's time.\n",
        "\n",
        "Ciphertext is written out in groups of fixed length, the traditional group size\n",
        "being 5 letters, and punctuation is excluded. This is to make it harder to guess\n",
        "things based on word boundaries.\n",
        "\n",
        "## Examples\n",
        "\n",
        "- Encoding `test` gives `gvhg`\n",
        "- Decoding `gvhg` gives `test`\n",
        "- Decoding `gsvjf rxpyi ldmul cqfnk hlevi gsvoz abwlt` gives `thequickbrownfoxjumpsoverthelazydog`\n",
        "\n",
        "## Source\n",
        "\n",
        "Wikipedia [http://en.wikipedia.org/wiki/Atbash](http://en.wikipedia.org/wiki/Atbash)\n",
        "\n",
        "## Version compatibility\n",
        "This exercise has been tested on Julia versions >=1.0.\n",
        "\n",
        "## Submitting Incomplete Solutions\n",
        "It's possible to submit an incomplete solution so you can see how others have completed the exercise."
      ],
      "metadata": {}
    },
    {
      "cell_type": "markdown",
      "source": [
        "## Your solution"
      ],
      "metadata": {}
    },
    {
      "cell_type": "code",
      "source": [
        "# submit\n",
        "atoz = 'a':'z'\n",
        "ztoa = 'z':-1:'a'\n",
        "numbers= '0':'9'\n",
        "conv = Dict(atoz[i] => string(ztoa[i]) for i in 1:length(atoz))\n",
        "\n",
        "function encode(input::AbstractString)\n",
        "    out = \"\"\n",
        "    i = 1\n",
        "    input_l = lowercase(input)\n",
        "    for c in input_l\n",
        "        if c in numbers\n",
        "            out *= string(c)\n",
        "        elseif c in keys(conv)\n",
        "            out *= conv[c]\n",
        "        else\n",
        "            continue\n",
        "        end\n",
        "        if i % 5 == 0\n",
        "            out *= \" \"\n",
        "        end\n",
        "        i += 1\n",
        "    end\n",
        "    # Remove trailing space\n",
        "    if out[end] == ' '\n",
        "        out = out[1:end-1]\n",
        "    end\n",
        "    return out\n",
        "end\n",
        "\n",
        "function decode(input::AbstractString)\n",
        "    out = \"\"\n",
        "    for c in input\n",
        "        if c in keys(conv)\n",
        "            out *= conv[c]\n",
        "        elseif c in numbers\n",
        "            out *= string(c)\n",
        "        end\n",
        "    end\n",
        "    return out\n",
        "end\n"
      ],
      "outputs": [
        {
          "output_type": "execute_result",
          "execution_count": 47,
          "data": {
            "text/plain": [
              "decode (generic function with 1 method)"
            ]
          },
          "metadata": {}
        }
      ],
      "execution_count": 47,
      "metadata": {}
    },
    {
      "cell_type": "code",
      "source": [
        "to_code = \"heLlo yOu, what are you do1ng ?\"\n",
        "encoded = encode(to_code)\n",
        "decoded = decode(encoded)\n",
        "println(\"\"\" \"$to_code\" --> \"$encoded\" --> \"$decoded\" \"\"\")"
      ],
      "outputs": [
        {
          "output_type": "stream",
          "name": "stdout",
          "text": [
            " \"heLlo yOu, what are you do1ng ?\" --> \"svool blfds zgziv blfwl 1mt\" --> \"helloyouwhatareyoudo1ng\" \n"
          ]
        }
      ],
      "execution_count": 49,
      "metadata": {
        "collapsed": false,
        "outputHidden": false,
        "inputHidden": false
      }
    },
    {
      "cell_type": "markdown",
      "source": [
        "## Test suite"
      ],
      "metadata": {}
    },
    {
      "cell_type": "code",
      "source": [
        "# canonical data version: 1.2.0\n",
        "\n",
        "using Test\n",
        "\n",
        "# include(\"atbash-cipher.jl\")\n",
        "\n",
        "@testset \"encoding from English to atbash\" begin\n",
        "    @test encode(\"yes\") == \"bvh\"\n",
        "    @test encode(\"no\") == \"ml\"\n",
        "    @test encode(\"OMG\") == \"lnt\"\n",
        "    @test encode(\"O M G\") == \"lnt\"\n",
        "    @test encode(\"mindblowingly\") == \"nrmwy oldrm tob\"\n",
        "    @test encode(\"Testing,1 2 3, testing.\") == \"gvhgr mt123 gvhgr mt\"\n",
        "    @test encode(\"Truth is fiction.\") == \"gifgs rhurx grlm\"\n",
        "    @test encode(\"The quick brown fox jumps over the lazy dog.\") == \"gsvjf rxpyi ldmul cqfnk hlevi gsvoz abwlt\"\n",
        "end\n",
        "\n",
        "@testset \"decoding from atbash to English\" begin\n",
        "    @test decode(\"vcvix rhn\") == \"exercism\"\n",
        "    @test decode(\"zmlyh gzxov rhlug vmzhg vkkrm thglm v\") == \"anobstacleisoftenasteppingstone\"\n",
        "    @test decode(\"gvhgr mt123 gvhgr mt\") == \"testing123testing\"\n",
        "    @test decode(\"gsvjf rxpyi ldmul cqfnk hlevi gsvoz abwlt\") == \"thequickbrownfoxjumpsoverthelazydog\"\n",
        "    @test decode(\"vc vix    r hn\") == \"exercism\"\n",
        "    @test decode(\"zmlyhgzxovrhlugvmzhgvkkrmthglmv\") == \"anobstacleisoftenasteppingstone\"\n",
        "end\n"
      ],
      "outputs": [
        {
          "output_type": "stream",
          "name": "stdout",
          "text": [
            "\u001b[37m\u001b[1mTest Summary:                   | \u001b[22m\u001b[39m\u001b[32m\u001b[1mPass  \u001b[22m\u001b[39m\u001b[36m\u001b[1mTotal\u001b[22m\u001b[39m\n",
            "encoding from English to atbash | \u001b[32m   8  \u001b[39m\u001b[36m    8\u001b[39m\n",
            "\u001b[37m\u001b[1mTest Summary:                   | \u001b[22m\u001b[39m\u001b[32m\u001b[1mPass  \u001b[22m\u001b[39m\u001b[36m\u001b[1mTotal\u001b[22m\u001b[39m\n",
            "decoding from atbash to English | \u001b[32m   6  \u001b[39m\u001b[36m    6\u001b[39m\n"
          ]
        },
        {
          "output_type": "execute_result",
          "execution_count": 50,
          "data": {
            "text/plain": [
              "Test.DefaultTestSet(\"decoding from atbash to English\", Any[], 6, false)"
            ]
          },
          "metadata": {}
        }
      ],
      "execution_count": 50,
      "metadata": {}
    },
    {
      "cell_type": "markdown",
      "source": [
        "## Prepare submission\n",
        "To submit your exercise, you need to save your solution in a file called `atbash-cipher.jl` before using the CLI.\n",
        "You can either create it manually or use the following functions, which will automatically write every notebook cell that starts with `# submit` to the file `atbash-cipher.jl`.\n"
      ],
      "metadata": {}
    },
    {
      "cell_type": "code",
      "source": [
        "using Pkg; Pkg.add(\"Exercism\")\n",
        "using Exercism\n",
        "Exercism.create_submission(\"atbash-cipher\")"
      ],
      "outputs": [
        {
          "output_type": "stream",
          "name": "stdout",
          "text": [
            "\u001b[32m\u001b[1m  Updating\u001b[22m\u001b[39m registry at `~/.julia/registries/General`\n"
          ]
        }
      ],
      "execution_count": 51,
      "metadata": {}
    },
    {
      "cell_type": "code",
      "source": [],
      "outputs": [],
      "execution_count": null,
      "metadata": {
        "collapsed": false,
        "outputHidden": false,
        "inputHidden": false
      }
    }
  ],
  "metadata": {
    "kernelspec": {
      "name": "julia-1.3",
      "language": "julia",
      "display_name": "Julia 1.3.1"
    },
    "language_info": {
      "file_extension": ".jl",
      "name": "julia",
      "mimetype": "application/julia",
      "version": "1.3.1"
    },
    "kernel_info": {
      "name": "julia-1.3"
    },
    "nteract": {
      "version": "0.15.0"
    }
  },
  "nbformat": 4,
  "nbformat_minor": 2
}