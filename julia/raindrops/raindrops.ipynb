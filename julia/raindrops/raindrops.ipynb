{
  "cells": [
    {
      "cell_type": "markdown",
      "source": [
        "# Raindrops\n",
        "\n",
        "Convert a number to a string, the contents of which depend on the number's factors.\n",
        "\n",
        "- If the number has 3 as a factor, output 'Pling'.\n",
        "- If the number has 5 as a factor, output 'Plang'.\n",
        "- If the number has 7 as a factor, output 'Plong'.\n",
        "- If the number does not have 3, 5, or 7 as a factor,\n",
        "  just pass the number's digits straight through.\n",
        "\n",
        "## Examples\n",
        "\n",
        "- 28's factors are 1, 2, 4, **7**, 14, 28.\n",
        "  - In raindrop-speak, this would be a simple \"Plong\".\n",
        "- 30's factors are 1, 2, **3**, **5**, 6, 10, 15, 30.\n",
        "  - In raindrop-speak, this would be a \"PlingPlang\".\n",
        "- 34 has four factors: 1, 2, 17, and 34.\n",
        "  - In raindrop-speak, this would be \"34\".\n",
        "## Source\n",
        "\n",
        "A variation on a famous interview question intended to weed out potential candidates. [http://jumpstartlab.com](http://jumpstartlab.com)\n",
        "\n",
        "\n",
        "## Version compatibility\n",
        "This exercise has been tested on Julia versions >=1.0.\n",
        "\n",
        "## Submitting Incomplete Solutions\n",
        "It's possible to submit an incomplete solution so you can see how others have completed the exercise."
      ],
      "metadata": {}
    },
    {
      "cell_type": "markdown",
      "source": [
        "## Your solution"
      ],
      "metadata": {}
    },
    {
      "cell_type": "code",
      "source": [
        "# submit\n",
        "function raindrops(number::Int)\n",
        "    out = \"\"\n",
        "    if number % 3 == 0\n",
        "        out *= \"Pling\"\n",
        "    end\n",
        "    if number % 5 == 0\n",
        "        out *= \"Plang\"\n",
        "    end\n",
        "    if number % 7 == 0\n",
        "        out *= \"Plong\"\n",
        "    end\n",
        "    if out == \"\"\n",
        "        out = string(number)\n",
        "    end\n",
        "    return out\n",
        "end"
      ],
      "outputs": [
        {
          "output_type": "execute_result",
          "execution_count": 1,
          "data": {
            "text/plain": [
              "raindrops (generic function with 1 method)"
            ]
          },
          "metadata": {}
        }
      ],
      "execution_count": 1,
      "metadata": {}
    },
    {
      "cell_type": "markdown",
      "source": [
        "## Test suite"
      ],
      "metadata": {}
    },
    {
      "cell_type": "code",
      "source": [
        "using Test\n",
        "\n",
        "# include(\"raindrops.jl\")\n",
        "\n",
        "@testset \"detect numbers\" begin\n",
        "    @testset \"the sound for 1 is 1\" begin\n",
        "      @test raindrops(1) == \"1\"\n",
        "    end\n",
        "    @testset \"2 to the power 3 does not make a raindrop sound as 3 is the exponent not the base\" begin\n",
        "      @test raindrops(8) == \"8\"\n",
        "    end\n",
        "    @testset \"the sound for 52 is 52\" begin\n",
        "      @test raindrops(52) == \"52\"\n",
        "    end\n",
        "end\n",
        "\n",
        "@testset \"detect pling\" begin\n",
        "    @testset \"the sound for 3 is Pling\" begin\n",
        "      @test raindrops(3) == \"Pling\"\n",
        "    end\n",
        "    @testset \"the sound for 6 is Pling as it has a factor 3\" begin\n",
        "      @test raindrops(6) == \"Pling\"\n",
        "    end\n",
        "    @testset \"the sound for 9 is Pling as it has a factor 3\" begin\n",
        "      @test raindrops(9) == \"Pling\"\n",
        "    end\n",
        "    @testset \"the sound for 27 is Pling as it has a factor 3\" begin\n",
        "      @test raindrops(27) == \"Pling\"\n",
        "    end\n",
        "end\n",
        "\n",
        "@testset \"detect plang\" begin\n",
        "    @testset \"the sound for 5 is Plang\" begin\n",
        "      @test raindrops(5) == \"Plang\"\n",
        "    end\n",
        "    @testset \"the sound for 10 is Plang as it has a factor 5\" begin\n",
        "      @test raindrops(10) == \"Plang\"\n",
        "    end\n",
        "    @testset \"the sound for 25 is Plang as it has a factor 5\" begin\n",
        "      @test raindrops(25) == \"Plang\"\n",
        "    end\n",
        "    @testset \"the sound for 3125 is Plang as it has a factor 5\" begin\n",
        "      @test raindrops(3125) == \"Plang\"\n",
        "    end\n",
        "end\n",
        "\n",
        "@testset \"detect plong\" begin\n",
        "    @testset \"the sound for 7 is Plong\" begin\n",
        "      @test raindrops(7) == \"Plong\"\n",
        "    end\n",
        "    @testset \"the sound for 14 is Plong as it has a factor of 7\" begin\n",
        "      @test raindrops(14) == \"Plong\"\n",
        "    end\n",
        "    @testset \"the sound for 49 is Plong as it has a factor 7\" begin\n",
        "      @test raindrops(49) == \"Plong\"\n",
        "    end\n",
        "end\n",
        "\n",
        "@testset \"detect multiple sounds\" begin\n",
        "    @testset \"the sound for 15 is PlingPlang as it has factors 3 and 5\" begin\n",
        "      @test raindrops(15) == \"PlingPlang\"\n",
        "    end\n",
        "    @testset \"the sound for 21 is PlingPlong as it has factors 3 and 7\" begin\n",
        "      @test raindrops(21) == \"PlingPlong\"\n",
        "    end\n",
        "    @testset \"the sound for 35 is PlangPlong as it has factors 5 and 7\" begin\n",
        "      @test raindrops(35) == \"PlangPlong\"\n",
        "    end\n",
        "    @testset \"the sound for 105 is PlingPlangPlong as it has factors 3, 5 and 7\" begin\n",
        "      @test raindrops(105) == \"PlingPlangPlong\"\n",
        "    end\n",
        "end"
      ],
      "outputs": [
        {
          "output_type": "stream",
          "name": "stdout",
          "text": [
            "\u001b[37m\u001b[1mTest Summary:  | \u001b[22m\u001b[39m\u001b[32m\u001b[1mPass  \u001b[22m\u001b[39m\u001b[36m\u001b[1mTotal\u001b[22m\u001b[39m\n",
            "detect numbers | \u001b[32m   3  \u001b[39m\u001b[36m    3\u001b[39m\n",
            "\u001b[37m\u001b[1mTest Summary: | \u001b[22m\u001b[39m\u001b[32m\u001b[1mPass  \u001b[22m\u001b[39m\u001b[36m\u001b[1mTotal\u001b[22m\u001b[39m\n",
            "detect pling  | \u001b[32m   4  \u001b[39m\u001b[36m    4\u001b[39m\n",
            "\u001b[37m\u001b[1mTest Summary: | \u001b[22m\u001b[39m\u001b[32m\u001b[1mPass  \u001b[22m\u001b[39m\u001b[36m\u001b[1mTotal\u001b[22m\u001b[39m\n",
            "detect plang  | \u001b[32m   4  \u001b[39m\u001b[36m    4\u001b[39m\n",
            "\u001b[37m\u001b[1mTest Summary: | \u001b[22m\u001b[39m\u001b[32m\u001b[1mPass  \u001b[22m\u001b[39m\u001b[36m\u001b[1mTotal\u001b[22m\u001b[39m\n",
            "detect plong  | \u001b[32m   3  \u001b[39m\u001b[36m    3\u001b[39m\n",
            "\u001b[37m\u001b[1mTest Summary:          | \u001b[22m\u001b[39m\u001b[32m\u001b[1mPass  \u001b[22m\u001b[39m\u001b[36m\u001b[1mTotal\u001b[22m\u001b[39m\n",
            "detect multiple sounds | \u001b[32m   4  \u001b[39m\u001b[36m    4\u001b[39m\n"
          ]
        },
        {
          "output_type": "execute_result",
          "execution_count": 2,
          "data": {
            "text/plain": [
              "Test.DefaultTestSet(\"detect multiple sounds\", Any[Test.DefaultTestSet(\"the sound for 15 is PlingPlang as it has factors 3 and 5\", Any[], 1, false), Test.DefaultTestSet(\"the sound for 21 is PlingPlong as it has factors 3 and 7\", Any[], 1, false), Test.DefaultTestSet(\"the sound for 35 is PlangPlong as it has factors 5 and 7\", Any[], 1, false), Test.DefaultTestSet(\"the sound for 105 is PlingPlangPlong as it has factors 3, 5 and 7\", Any[], 1, false)], 0, false)"
            ]
          },
          "metadata": {}
        }
      ],
      "execution_count": 2,
      "metadata": {}
    },
    {
      "cell_type": "markdown",
      "source": [
        "## Prepare submission\n",
        "To submit your exercise, you need to save your solution in a file called `raindrops.jl` before using the CLI.\n",
        "You can either create it manually or use the following functions, which will automatically write every notebook cell that starts with `# submit` to the file `raindrops.jl`.\n"
      ],
      "metadata": {}
    },
    {
      "cell_type": "code",
      "source": [
        "# using Pkg; Pkg.add(\"Exercism\")\n",
        "# using Exercism\n",
        "# Exercism.create_submission(\"raindrops\")"
      ],
      "outputs": [],
      "execution_count": null,
      "metadata": {}
    }
  ],
  "metadata": {
    "kernelspec": {
      "name": "julia-1.3",
      "language": "julia",
      "display_name": "Julia 1.3.1"
    },
    "language_info": {
      "file_extension": ".jl",
      "name": "julia",
      "mimetype": "application/julia",
      "version": "1.3.1"
    },
    "kernel_info": {
      "name": "julia-1.3"
    },
    "nteract": {
      "version": "0.15.0"
    }
  },
  "nbformat": 4,
  "nbformat_minor": 2
}